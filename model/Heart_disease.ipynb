{
 "cells": [
  {
   "cell_type": "code",
   "execution_count": null,
   "outputs": [],
   "source": [
    "! pip install pandas\n",
    "! pip install matplotlib\n",
    "! pip install seaborn"
   ],
   "metadata": {
    "collapsed": false,
    "is_executing": true,
    "ExecuteTime": {
     "start_time": "2024-06-10T02:06:31.697856100Z"
    }
   }
  },
  {
   "cell_type": "code",
   "execution_count": null,
   "outputs": [],
   "source": [
    "import pandas as pd\n",
    "import numpy as np\n",
    "import matplotlib.pyplot as plt\n",
    "import seaborn as sns\n",
    "import warnings\n",
    "warnings.filterwarnings('ignore')\n",
    "\n",
    "from sklearn.preprocessing import LabelEncoder\n",
    "from sklearn.model_selection import train_test_split, cross_val_score, GridSearchCV\n",
    "from sklearn.linear_model import LogisticRegression\n",
    "from sklearn.neighbors import KNeighborsClassifier\n",
    "from sklearn.tree import DecisionTreeClassifier\n",
    "from sklearn.ensemble import RandomForestClassifier, AdaBoostClassifier, GradientBoostingClassifier\n",
    "from sklearn.naive_bayes import GaussianNB\n",
    "from sklearn.metrics import accuracy_score, confusion_matrix, classification_report\n",
    "from sklearn.experimental import enable_iterative_imputer\n",
    "from sklearn.impute import IterativeImputer, SimpleImputer\n",
    "from sklearn.ensemble import RandomForestRegressor"
   ],
   "metadata": {
    "collapsed": false,
    "is_executing": true
   }
  },
  {
   "cell_type": "code",
   "execution_count": null,
   "outputs": [],
   "source": [
    "# Load the datasets\n",
    "df_2020 = pd.read_csv('heart_2020_cleaned.csv')"
   ],
   "metadata": {
    "collapsed": false,
    "is_executing": true
   }
  },
  {
   "cell_type": "code",
   "execution_count": null,
   "outputs": [],
   "source": [
    "# Data Preprocessing for heart_2020_cleaned.csv\n",
    "df_2020 = df_2020.drop(columns='Race')\n",
    "df_2020['Sex'] = df_2020['Sex'].replace({'Female': 0, 'Male': 1})\n",
    "df_2020['AgeCategory'] = df_2020['AgeCategory'].replace({\n",
    "    '18-24': 0, '25-29': 1, '30-34': 2, '35-39': 3,\n",
    "    '40-44': 4, '45-49': 5, '50-54': 6, '55-59': 7,\n",
    "    '60-64': 8, '65-69': 9, '70-74': 10, '75-79': 11,\n",
    "    '80 or older': 12\n",
    "})\n",
    "df_2020['Diabetic'] = df_2020['Diabetic'].replace({\n",
    "    'No': 0, 'No, borderline diabetes': 0,\n",
    "    'Yes': 1, 'Yes (during pregnancy)': 1\n",
    "})\n",
    "df_2020['GenHealth'] = df_2020['GenHealth'].replace({\n",
    "    'Poor': 0, 'Fair': 1, 'Good': 2,\n",
    "    'Very good': 3, 'Excellent': 4\n",
    "})\n",
    "df_2020 = df_2020.replace({'No': 0, 'Yes': 1})"
   ],
   "metadata": {
    "collapsed": false,
    "is_executing": true
   }
  },
  {
   "cell_type": "code",
   "execution_count": null,
   "metadata": {
    "is_executing": true
   },
   "outputs": [],
   "source": [
    "# Split data into features and target\n",
    "X_2020 = df_2020.drop(columns='HeartDisease')\n",
    "y_2020 = df_2020['HeartDisease']"
   ]
  },
  {
   "cell_type": "code",
   "execution_count": null,
   "metadata": {
    "is_executing": true
   },
   "outputs": [],
   "source": [
    "# Define models\n",
    "models = {\n",
    "    \"Logistic Regression\": LogisticRegression(),\n",
    "    \"KNN\": KNeighborsClassifier(),\n",
    "    \"NB\": GaussianNB(),\n",
    "    \"Decision Tree\": DecisionTreeClassifier(),\n",
    "    \"Random Forest\": RandomForestClassifier(),\n",
    "    \"GradientBoosting\": GradientBoostingClassifier(),\n",
    "    \"AdaBoost\": AdaBoostClassifier()\n",
    "}"
   ]
  },
  {
   "cell_type": "code",
   "execution_count": null,
   "metadata": {
    "is_executing": true
   },
   "outputs": [],
   "source": [
    "# Function to evaluate models\n",
    "def evaluate_models(X, y, models):\n",
    "    results = {}\n",
    "    best_model_name = None\n",
    "    best_accuracy = 0.0\n",
    "    \n",
    "    for name, model in models.items():\n",
    "        model.fit(X_train, y_train)\n",
    "        y_pred = model.predict(X_test)\n",
    "        accuracy = accuracy_score(y_test, y_pred)\n",
    "        results[name] = accuracy\n",
    "        print(f\"Model: {name}\")\n",
    "        print(f\"Accuracy: {accuracy}\")\n",
    "        print(f\"Confusion Matrix:\\n{confusion_matrix(y_test, y_pred)}\")\n",
    "        print(f\"Classification Report:\\n{classification_report(y_test, y_pred)}\\n\")\n",
    "        if accuracy > best_accuracy:\n",
    "            best_accuracy = accuracy\n",
    "            best_model_name = name\n",
    "    \n",
    "    return results, best_model_name, best_accuracy\n",
    "\n",
    "# Function for hyperparameter tuning\n",
    "# def hyperparameter_tuning(X, y, model, param_grid):\n",
    "#     grid_search = GridSearchCV(model, param_grid, cv=5, scoring='accuracy')\n",
    "#     grid_search.fit(X_train, y_train)\n",
    "#     best_params = grid_search.best_params_\n",
    "#     best_model = grid_search.best_estimator_\n",
    "#     y_pred = best_model.predict(X_test)\n",
    "#     accuracy = accuracy_score(y_test, y_pred)\n",
    "#     return best_params, accuracy\n",
    "\n",
    "# Split the 2020 dataset into train and test sets\n",
    "X_train, X_test, y_train, y_test = train_test_split(X_2020, y_2020, test_size=0.1, random_state=42)\n",
    "\n"
   ]
  },
  {
   "cell_type": "code",
   "execution_count": null,
   "metadata": {
    "is_executing": true
   },
   "outputs": [],
   "source": [
    "# Evaluate models on the 2020 dataset\n",
    "results_2020, best_model_name_2020, best_accuracy_2020 = evaluate_models(X_train, y_train, models)\n",
    "print(f\"Best Model for 2020 dataset: {best_model_name_2020} with accuracy: {best_accuracy_2020}\")\n",
    "\n"
   ]
  },
  {
   "cell_type": "code",
   "execution_count": null,
   "metadata": {
    "is_executing": true
   },
   "outputs": [],
   "source": [
    "def preprocess_input_data(input_data):\n",
    "    input_df = pd.DataFrame([input_data])\n",
    "        \n",
    "    input_df['Sex'] = input_df['Sex'].replace({'Female': 0, 'Male': 1})\n",
    "    input_df['AgeCategory'] = input_df['AgeCategory'].replace({\n",
    "        '18-24': 0, '25-29': 1, '30-34': 2, '35-39': 3,\n",
    "        '40-44': 4, '45-49': 5, '50-54': 6, '55-59': 7,\n",
    "        '60-64': 8, '65-69': 9, '70-74': 10, '75-79': 11,\n",
    "        '80+': 12\n",
    "    })\n",
    "    input_df['Diabetic'] = input_df['Diabetic'].replace({\n",
    "        'No': 0, 'No, borderline diabetes': 0,\n",
    "        'Yes': 1, 'Yes (during pregnancy)': 1\n",
    "    })\n",
    "    input_df['DiffWalking'] = df_2020['DiffWalking'].replace({\n",
    "    'No': 0, \n",
    "    'Yes': 1\n",
    "    })\n",
    "    input_df['GenHealth'] = input_df['GenHealth'].replace({\n",
    "        'Poor': 0, 'Fair': 1, 'Good': 2,\n",
    "        'Very good': 3, 'Excellent': 4\n",
    "    })\n",
    "    input_df = input_df.replace({'No': 0, 'Yes': 1})\n",
    "    \n",
    "    # Ensure the columns are in the same order as the training data\n",
    "    ordered_columns = [\n",
    "        'BMI', 'Smoking', 'AlcoholDrinking', 'Stroke', 'PhysicalHealth', 'MentalHealth', \n",
    "        'DiffWalking', 'Sex', 'AgeCategory', 'Diabetic', 'PhysicalActivity', \n",
    "        'GenHealth', 'SleepTime', 'Asthma', 'KidneyDisease', 'SkinCancer'\n",
    "    ]\n",
    "    input_df = input_df[ordered_columns]\n",
    "    \n",
    "    return input_df\n"
   ]
  },
  {
   "cell_type": "code",
   "execution_count": null,
   "metadata": {
    "is_executing": true
   },
   "outputs": [],
   "source": [
    "best_model = GradientBoostingClassifier(random_state=42)\n",
    "best_model.fit(X_train, y_train)\n",
    "\n",
    "def predict_heart_disease_risk(input_data):\n",
    "    # Preprocess input data\n",
    "    input_df = preprocess_input_data(input_data)\n",
    "    \n",
    "    # Predict risk\n",
    "    risk_score = best_model.predict_proba(input_df)[:, 1][0]  # Probability of heart disease\n",
    "    return round(risk_score * 100, 2)  # Convert to percentage and round to two decimal places\n",
    "\n",
    "\n",
    "# Calculate feature importances\n",
    "def get_feature_importances(model, X):\n",
    "    importances = model.feature_importances_\n",
    "    feature_importance_df = pd.DataFrame({\n",
    "        'Feature': X.columns,\n",
    "        'Importance': importances\n",
    "    })\n",
    "    feature_importance_df = feature_importance_df.sort_values(by='Importance', ascending=False).reset_index(drop=True)\n",
    "    return feature_importance_df\n",
    "\n",
    "# Get feature importances from the best model\n",
    "feature_importances = get_feature_importances(best_model, X_train)\n",
    "print(feature_importances)\n"
   ]
  },
  {
   "cell_type": "code",
   "execution_count": null,
   "metadata": {
    "is_executing": true
   },
   "outputs": [],
   "source": [
    "plt.figure(figsize=(12, 10))\n",
    "correlation_matrix = df_2020.corr()\n",
    "sns.heatmap(correlation_matrix, annot=True, fmt='.2f', cmap='coolwarm')\n",
    "plt.title('Correlation Matrix')\n",
    "plt.show()\n"
   ]
  },
  {
   "cell_type": "code",
   "execution_count": null,
   "metadata": {
    "is_executing": true
   },
   "outputs": [],
   "source": [
    "sns.countplot(x='PhysicalActivity', hue='HeartDisease', data=df_2020)\n",
    "plt.title('Physical Activity vs Heart Disease')\n",
    "plt.show()\n"
   ]
  },
  {
   "cell_type": "markdown",
   "metadata": {},
   "source": [
    "Physical Activity vs Heart Disease:\n",
    "\n",
    "The count plot shows that a higher number of individuals without heart disease engage in physical activity compared to those with heart disease.\n",
    "However, the relative proportion of heart disease cases among those who are physically active is low."
   ]
  },
  {
   "cell_type": "code",
   "execution_count": null,
   "metadata": {
    "is_executing": true
   },
   "outputs": [],
   "source": [
    "sns.countplot(x='AlcoholDrinking', hue='HeartDisease', data=df_2020)\n",
    "plt.title('AlcoholDrinking vs Heart Disease')\n",
    "plt.show()\n"
   ]
  },
  {
   "cell_type": "code",
   "execution_count": null,
   "metadata": {
    "is_executing": true
   },
   "outputs": [],
   "source": [
    "sns.catplot(x='AlcoholDrinking', y='AgeCategory', hue='HeartDisease', kind='box', data=df_2020)\n",
    "plt.title('Alcohol Drinking and AgeCategory vs Heart Disease')\n",
    "plt.show()\n",
    "\n",
    "sns.catplot(x='AlcoholDrinking', y='GenHealth', hue='HeartDisease', kind='box', data=df_2020)\n",
    "plt.title('Alcohol Drinking and GenHealth vs Heart Disease')\n",
    "plt.show()\n"
   ]
  },
  {
   "cell_type": "markdown",
   "metadata": {},
   "source": [
    "\n",
    "Alcohol Drinking and AgeCategory vs Heart Disease:\n",
    "Non-Drinkers: The median age category of non-drinkers with heart disease is higher compared to those without heart disease.\n",
    "Drinkers: The median age category of drinkers with heart disease is also higher, but the difference between drinkers with and without heart disease is less pronounced compared to non-drinkers.\n",
    "There is a wider spread in age categories among those without heart disease in both non-drinkers and drinkers.\n",
    "\n",
    "Alcohol Drinking and GenHealth vs Heart Disease:\n",
    "For both drinkers and non-drinkers, individuals with heart disease tend to have lower general health ratings.\n",
    "The median general health rating is similar between drinkers and non-drinkers.\n",
    "There is a broader range of general health ratings among individuals without heart disease compared to those with heart disease.\n",
    "\n",
    "Insights:\n",
    "Age and Heart Disease:\n",
    "Age appears to be a significant factor in heart disease risk, regardless of alcohol consumption.\n",
    "Non-drinkers with heart disease tend to be in higher age categories compared to non-drinkers without heart disease, suggesting that age is a critical factor.\n",
    "\n",
    "General Health and Heart Disease:\n",
    "General health ratings are lower for individuals with heart disease, indicating poor general health is a risk factor for heart disease.\n",
    "Alcohol consumption does not seem to drastically change the general health ratings between those with and without heart disease.\n",
    "\n",
    "Conclusion:\n",
    "These observations indicate that while alcohol consumption itself might not be a strong direct predictor of heart disease in this dataset, factors like age and general health are significant predictors. Therefore, the low feature importance of \"AlcoholDrinking\" in the model might be due to these stronger predictors overshadowing its impact."
   ]
  },
  {
   "cell_type": "markdown",
   "metadata": {},
   "source": [
    "Based on the observed articles we found that physical activity decreases risk of heart disease by 15%"
   ]
  },
  {
   "cell_type": "code",
   "execution_count": null,
   "metadata": {
    "is_executing": true
   },
   "outputs": [],
   "source": [
    "def predict_heart_disease_risk(input_data):\n",
    "    # Preprocess input data\n",
    "    input_df = preprocess_input_data(input_data)\n",
    "    \n",
    "    # Predict risk using the model\n",
    "    risk_score = best_model.predict_proba(input_df)[:, 1][0]  # Probability of heart disease\n",
    "    \n",
    "    # Adjust risk based on physical activity\n",
    "    if input_data['PhysicalActivity'] == 1:\n",
    "        risk_score *= 0.85  # Decrease risk by 15% for physical activity\n",
    "    \n",
    "    return round(risk_score * 100, 2)"
   ]
  },
  {
   "cell_type": "code",
   "execution_count": null,
   "metadata": {
    "is_executing": true
   },
   "outputs": [],
   "source": [
    "# Example usage of healthy person\n",
    "input_data = {\n",
    "    'BMI': 25.0,\n",
    "    'Smoking': 0,\n",
    "    'AlcoholDrinking': 0,\n",
    "    'Stroke': 0,\n",
    "    'PhysicalHealth': 3,\n",
    "    'MentalHealth': 3,\n",
    "    'DiffWalking': 0,\n",
    "    'Sex': 'Male',\n",
    "    'AgeCategory': '18-24',\n",
    "    'Diabetic': 'No',\n",
    "    'PhysicalActivity': 1,\n",
    "    'GenHealth': 'Very good',\n",
    "    'SleepTime': 9,\n",
    "    'Asthma': 0,\n",
    "    'KidneyDisease': 0,\n",
    "    'SkinCancer': 0\n",
    "}\n",
    "\n",
    "risk_percentage = predict_heart_disease_risk(input_data)\n",
    "print(f\"Predicted risk of heart disease: {risk_percentage:.2f}%\")"
   ]
  },
  {
   "cell_type": "code",
   "execution_count": null,
   "metadata": {
    "is_executing": true
   },
   "outputs": [],
   "source": [
    "# Example usage of average person\n",
    "input_data = {\n",
    "    'BMI': 35.0,\n",
    "    'Smoking': 1,\n",
    "    'AlcoholDrinking': 1,\n",
    "    'Stroke': 1,\n",
    "    'PhysicalHealth': 13,\n",
    "    'MentalHealth': 3,\n",
    "    'DiffWalking': 0,\n",
    "    'Sex': 'Male',\n",
    "    'AgeCategory': '30-34',\n",
    "    'Diabetic': 'No',\n",
    "    'PhysicalActivity': 0,\n",
    "    'GenHealth': 'Fair',\n",
    "    'SleepTime': 6,\n",
    "    'Asthma': 1,\n",
    "    'KidneyDisease': 0,\n",
    "    'SkinCancer': 0\n",
    "}\n",
    "\n",
    "risk_percentage = predict_heart_disease_risk(input_data)\n",
    "print(f\"Predicted risk of heart disease: {risk_percentage:.2f}%\")\n"
   ]
  },
  {
   "cell_type": "code",
   "execution_count": null,
   "metadata": {
    "is_executing": true
   },
   "outputs": [],
   "source": [
    "# Example usage of Poor person\n",
    "input_data = {\n",
    "    'BMI': 45.06,\n",
    "    'Smoking': 1,\n",
    "    'AlcoholDrinking': 1,\n",
    "    'Stroke': 1,\n",
    "    'PhysicalHealth': 0,\n",
    "    'MentalHealth': 15,\n",
    "    'DiffWalking': 1,\n",
    "    'Sex': 'Male',\n",
    "    'AgeCategory': 12,\n",
    "    'Diabetic': 'Yes',\n",
    "    'PhysicalActivity': 0,\n",
    "    'GenHealth': 'Poor',\n",
    "    'SleepTime': 7,\n",
    "    'Asthma': 1,\n",
    "    'KidneyDisease': 1,\n",
    "    'SkinCancer': 1\n",
    "}\n",
    "\n",
    "risk_percentage = predict_heart_disease_risk(input_data)\n",
    "print(f\"Predicted risk of heart disease: {risk_percentage:.2f}%\")"
   ]
  }
 ],
 "metadata": {
  "kernelspec": {
   "display_name": "Python 3",
   "language": "python",
   "name": "python3"
  },
  "language_info": {
   "codemirror_mode": {
    "name": "ipython",
    "version": 3
   },
   "file_extension": ".py",
   "mimetype": "text/x-python",
   "name": "python",
   "nbconvert_exporter": "python",
   "pygments_lexer": "ipython3",
   "version": "3.10.5"
  }
 },
 "nbformat": 4,
 "nbformat_minor": 2
}
